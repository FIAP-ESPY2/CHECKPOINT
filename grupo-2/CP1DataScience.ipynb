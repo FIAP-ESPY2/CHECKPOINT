{
  "nbformat": 4,
  "nbformat_minor": 0,
  "metadata": {
    "colab": {
      "provenance": []
    },
    "kernelspec": {
      "name": "python3",
      "display_name": "Python 3"
    },
    "language_info": {
      "name": "python"
    }
  },
  "cells": [
    {
      "cell_type": "code",
      "execution_count": 4,
      "metadata": {
        "id": "hbj4vA4X5cYB"
      },
      "outputs": [],
      "source": [
        "import pandas as pd\n",
        "import numpy as np\n",
        "import matplotlib.pyplot as plt\n",
        "import seaborn as sns"
      ]
    },
    {
      "cell_type": "code",
      "source": [
        "from google.colab import files\n",
        "uploaded = files.upload()"
      ],
      "metadata": {
        "colab": {
          "base_uri": "https://localhost:8080/",
          "height": 73
        },
        "id": "ASmxFAOM5erA",
        "outputId": "3681c8d6-fdd7-46c0-8b9a-522fc8dd0a0b"
      },
      "execution_count": 5,
      "outputs": [
        {
          "output_type": "display_data",
          "data": {
            "text/plain": [
              "<IPython.core.display.HTML object>"
            ],
            "text/html": [
              "\n",
              "     <input type=\"file\" id=\"files-a4e92530-0f9a-47ee-811f-4fd2ea1ed0fa\" name=\"files[]\" multiple disabled\n",
              "        style=\"border:none\" />\n",
              "     <output id=\"result-a4e92530-0f9a-47ee-811f-4fd2ea1ed0fa\">\n",
              "      Upload widget is only available when the cell has been executed in the\n",
              "      current browser session. Please rerun this cell to enable.\n",
              "      </output>\n",
              "      <script>// Copyright 2017 Google LLC\n",
              "//\n",
              "// Licensed under the Apache License, Version 2.0 (the \"License\");\n",
              "// you may not use this file except in compliance with the License.\n",
              "// You may obtain a copy of the License at\n",
              "//\n",
              "//      http://www.apache.org/licenses/LICENSE-2.0\n",
              "//\n",
              "// Unless required by applicable law or agreed to in writing, software\n",
              "// distributed under the License is distributed on an \"AS IS\" BASIS,\n",
              "// WITHOUT WARRANTIES OR CONDITIONS OF ANY KIND, either express or implied.\n",
              "// See the License for the specific language governing permissions and\n",
              "// limitations under the License.\n",
              "\n",
              "/**\n",
              " * @fileoverview Helpers for google.colab Python module.\n",
              " */\n",
              "(function(scope) {\n",
              "function span(text, styleAttributes = {}) {\n",
              "  const element = document.createElement('span');\n",
              "  element.textContent = text;\n",
              "  for (const key of Object.keys(styleAttributes)) {\n",
              "    element.style[key] = styleAttributes[key];\n",
              "  }\n",
              "  return element;\n",
              "}\n",
              "\n",
              "// Max number of bytes which will be uploaded at a time.\n",
              "const MAX_PAYLOAD_SIZE = 100 * 1024;\n",
              "\n",
              "function _uploadFiles(inputId, outputId) {\n",
              "  const steps = uploadFilesStep(inputId, outputId);\n",
              "  const outputElement = document.getElementById(outputId);\n",
              "  // Cache steps on the outputElement to make it available for the next call\n",
              "  // to uploadFilesContinue from Python.\n",
              "  outputElement.steps = steps;\n",
              "\n",
              "  return _uploadFilesContinue(outputId);\n",
              "}\n",
              "\n",
              "// This is roughly an async generator (not supported in the browser yet),\n",
              "// where there are multiple asynchronous steps and the Python side is going\n",
              "// to poll for completion of each step.\n",
              "// This uses a Promise to block the python side on completion of each step,\n",
              "// then passes the result of the previous step as the input to the next step.\n",
              "function _uploadFilesContinue(outputId) {\n",
              "  const outputElement = document.getElementById(outputId);\n",
              "  const steps = outputElement.steps;\n",
              "\n",
              "  const next = steps.next(outputElement.lastPromiseValue);\n",
              "  return Promise.resolve(next.value.promise).then((value) => {\n",
              "    // Cache the last promise value to make it available to the next\n",
              "    // step of the generator.\n",
              "    outputElement.lastPromiseValue = value;\n",
              "    return next.value.response;\n",
              "  });\n",
              "}\n",
              "\n",
              "/**\n",
              " * Generator function which is called between each async step of the upload\n",
              " * process.\n",
              " * @param {string} inputId Element ID of the input file picker element.\n",
              " * @param {string} outputId Element ID of the output display.\n",
              " * @return {!Iterable<!Object>} Iterable of next steps.\n",
              " */\n",
              "function* uploadFilesStep(inputId, outputId) {\n",
              "  const inputElement = document.getElementById(inputId);\n",
              "  inputElement.disabled = false;\n",
              "\n",
              "  const outputElement = document.getElementById(outputId);\n",
              "  outputElement.innerHTML = '';\n",
              "\n",
              "  const pickedPromise = new Promise((resolve) => {\n",
              "    inputElement.addEventListener('change', (e) => {\n",
              "      resolve(e.target.files);\n",
              "    });\n",
              "  });\n",
              "\n",
              "  const cancel = document.createElement('button');\n",
              "  inputElement.parentElement.appendChild(cancel);\n",
              "  cancel.textContent = 'Cancel upload';\n",
              "  const cancelPromise = new Promise((resolve) => {\n",
              "    cancel.onclick = () => {\n",
              "      resolve(null);\n",
              "    };\n",
              "  });\n",
              "\n",
              "  // Wait for the user to pick the files.\n",
              "  const files = yield {\n",
              "    promise: Promise.race([pickedPromise, cancelPromise]),\n",
              "    response: {\n",
              "      action: 'starting',\n",
              "    }\n",
              "  };\n",
              "\n",
              "  cancel.remove();\n",
              "\n",
              "  // Disable the input element since further picks are not allowed.\n",
              "  inputElement.disabled = true;\n",
              "\n",
              "  if (!files) {\n",
              "    return {\n",
              "      response: {\n",
              "        action: 'complete',\n",
              "      }\n",
              "    };\n",
              "  }\n",
              "\n",
              "  for (const file of files) {\n",
              "    const li = document.createElement('li');\n",
              "    li.append(span(file.name, {fontWeight: 'bold'}));\n",
              "    li.append(span(\n",
              "        `(${file.type || 'n/a'}) - ${file.size} bytes, ` +\n",
              "        `last modified: ${\n",
              "            file.lastModifiedDate ? file.lastModifiedDate.toLocaleDateString() :\n",
              "                                    'n/a'} - `));\n",
              "    const percent = span('0% done');\n",
              "    li.appendChild(percent);\n",
              "\n",
              "    outputElement.appendChild(li);\n",
              "\n",
              "    const fileDataPromise = new Promise((resolve) => {\n",
              "      const reader = new FileReader();\n",
              "      reader.onload = (e) => {\n",
              "        resolve(e.target.result);\n",
              "      };\n",
              "      reader.readAsArrayBuffer(file);\n",
              "    });\n",
              "    // Wait for the data to be ready.\n",
              "    let fileData = yield {\n",
              "      promise: fileDataPromise,\n",
              "      response: {\n",
              "        action: 'continue',\n",
              "      }\n",
              "    };\n",
              "\n",
              "    // Use a chunked sending to avoid message size limits. See b/62115660.\n",
              "    let position = 0;\n",
              "    do {\n",
              "      const length = Math.min(fileData.byteLength - position, MAX_PAYLOAD_SIZE);\n",
              "      const chunk = new Uint8Array(fileData, position, length);\n",
              "      position += length;\n",
              "\n",
              "      const base64 = btoa(String.fromCharCode.apply(null, chunk));\n",
              "      yield {\n",
              "        response: {\n",
              "          action: 'append',\n",
              "          file: file.name,\n",
              "          data: base64,\n",
              "        },\n",
              "      };\n",
              "\n",
              "      let percentDone = fileData.byteLength === 0 ?\n",
              "          100 :\n",
              "          Math.round((position / fileData.byteLength) * 100);\n",
              "      percent.textContent = `${percentDone}% done`;\n",
              "\n",
              "    } while (position < fileData.byteLength);\n",
              "  }\n",
              "\n",
              "  // All done.\n",
              "  yield {\n",
              "    response: {\n",
              "      action: 'complete',\n",
              "    }\n",
              "  };\n",
              "}\n",
              "\n",
              "scope.google = scope.google || {};\n",
              "scope.google.colab = scope.google.colab || {};\n",
              "scope.google.colab._files = {\n",
              "  _uploadFiles,\n",
              "  _uploadFilesContinue,\n",
              "};\n",
              "})(self);\n",
              "</script> "
            ]
          },
          "metadata": {}
        },
        {
          "output_type": "stream",
          "name": "stdout",
          "text": [
            "Saving BMW sales data (2010-2024).csv to BMW sales data (2010-2024) (1).csv\n"
          ]
        }
      ]
    },
    {
      "cell_type": "code",
      "source": [
        "vendas = pd.read_csv('BMW sales data (2010-2024).csv')\n",
        "vendas.head()"
      ],
      "metadata": {
        "colab": {
          "base_uri": "https://localhost:8080/",
          "height": 206
        },
        "id": "on9IFb3R6F6O",
        "outputId": "3f11d2be-c8d6-4de4-cd07-2ee5fd5a02e5"
      },
      "execution_count": 6,
      "outputs": [
        {
          "output_type": "execute_result",
          "data": {
            "text/plain": [
              "      Model  Year         Region  Color Fuel_Type Transmission  Engine_Size_L  \\\n",
              "0  5 Series  2016           Asia    Red    Petrol       Manual            3.5   \n",
              "1        i8  2013  North America    Red    Hybrid    Automatic            1.6   \n",
              "2  5 Series  2022  North America   Blue    Petrol    Automatic            4.5   \n",
              "3        X3  2024    Middle East   Blue    Petrol    Automatic            1.7   \n",
              "4  7 Series  2020  South America  Black    Diesel       Manual            2.1   \n",
              "\n",
              "   Mileage_KM  Price_USD  Sales_Volume Sales_Classification  \n",
              "0      151748      98740          8300                 High  \n",
              "1      121671      79219          3428                  Low  \n",
              "2       10991     113265          6994                  Low  \n",
              "3       27255      60971          4047                  Low  \n",
              "4      122131      49898          3080                  Low  "
            ],
            "text/html": [
              "\n",
              "  <div id=\"df-7e6932bd-5b38-49df-931b-172e5bc92729\" class=\"colab-df-container\">\n",
              "    <div>\n",
              "<style scoped>\n",
              "    .dataframe tbody tr th:only-of-type {\n",
              "        vertical-align: middle;\n",
              "    }\n",
              "\n",
              "    .dataframe tbody tr th {\n",
              "        vertical-align: top;\n",
              "    }\n",
              "\n",
              "    .dataframe thead th {\n",
              "        text-align: right;\n",
              "    }\n",
              "</style>\n",
              "<table border=\"1\" class=\"dataframe\">\n",
              "  <thead>\n",
              "    <tr style=\"text-align: right;\">\n",
              "      <th></th>\n",
              "      <th>Model</th>\n",
              "      <th>Year</th>\n",
              "      <th>Region</th>\n",
              "      <th>Color</th>\n",
              "      <th>Fuel_Type</th>\n",
              "      <th>Transmission</th>\n",
              "      <th>Engine_Size_L</th>\n",
              "      <th>Mileage_KM</th>\n",
              "      <th>Price_USD</th>\n",
              "      <th>Sales_Volume</th>\n",
              "      <th>Sales_Classification</th>\n",
              "    </tr>\n",
              "  </thead>\n",
              "  <tbody>\n",
              "    <tr>\n",
              "      <th>0</th>\n",
              "      <td>5 Series</td>\n",
              "      <td>2016</td>\n",
              "      <td>Asia</td>\n",
              "      <td>Red</td>\n",
              "      <td>Petrol</td>\n",
              "      <td>Manual</td>\n",
              "      <td>3.5</td>\n",
              "      <td>151748</td>\n",
              "      <td>98740</td>\n",
              "      <td>8300</td>\n",
              "      <td>High</td>\n",
              "    </tr>\n",
              "    <tr>\n",
              "      <th>1</th>\n",
              "      <td>i8</td>\n",
              "      <td>2013</td>\n",
              "      <td>North America</td>\n",
              "      <td>Red</td>\n",
              "      <td>Hybrid</td>\n",
              "      <td>Automatic</td>\n",
              "      <td>1.6</td>\n",
              "      <td>121671</td>\n",
              "      <td>79219</td>\n",
              "      <td>3428</td>\n",
              "      <td>Low</td>\n",
              "    </tr>\n",
              "    <tr>\n",
              "      <th>2</th>\n",
              "      <td>5 Series</td>\n",
              "      <td>2022</td>\n",
              "      <td>North America</td>\n",
              "      <td>Blue</td>\n",
              "      <td>Petrol</td>\n",
              "      <td>Automatic</td>\n",
              "      <td>4.5</td>\n",
              "      <td>10991</td>\n",
              "      <td>113265</td>\n",
              "      <td>6994</td>\n",
              "      <td>Low</td>\n",
              "    </tr>\n",
              "    <tr>\n",
              "      <th>3</th>\n",
              "      <td>X3</td>\n",
              "      <td>2024</td>\n",
              "      <td>Middle East</td>\n",
              "      <td>Blue</td>\n",
              "      <td>Petrol</td>\n",
              "      <td>Automatic</td>\n",
              "      <td>1.7</td>\n",
              "      <td>27255</td>\n",
              "      <td>60971</td>\n",
              "      <td>4047</td>\n",
              "      <td>Low</td>\n",
              "    </tr>\n",
              "    <tr>\n",
              "      <th>4</th>\n",
              "      <td>7 Series</td>\n",
              "      <td>2020</td>\n",
              "      <td>South America</td>\n",
              "      <td>Black</td>\n",
              "      <td>Diesel</td>\n",
              "      <td>Manual</td>\n",
              "      <td>2.1</td>\n",
              "      <td>122131</td>\n",
              "      <td>49898</td>\n",
              "      <td>3080</td>\n",
              "      <td>Low</td>\n",
              "    </tr>\n",
              "  </tbody>\n",
              "</table>\n",
              "</div>\n",
              "    <div class=\"colab-df-buttons\">\n",
              "\n",
              "  <div class=\"colab-df-container\">\n",
              "    <button class=\"colab-df-convert\" onclick=\"convertToInteractive('df-7e6932bd-5b38-49df-931b-172e5bc92729')\"\n",
              "            title=\"Convert this dataframe to an interactive table.\"\n",
              "            style=\"display:none;\">\n",
              "\n",
              "  <svg xmlns=\"http://www.w3.org/2000/svg\" height=\"24px\" viewBox=\"0 -960 960 960\">\n",
              "    <path d=\"M120-120v-720h720v720H120Zm60-500h600v-160H180v160Zm220 220h160v-160H400v160Zm0 220h160v-160H400v160ZM180-400h160v-160H180v160Zm440 0h160v-160H620v160ZM180-180h160v-160H180v160Zm440 0h160v-160H620v160Z\"/>\n",
              "  </svg>\n",
              "    </button>\n",
              "\n",
              "  <style>\n",
              "    .colab-df-container {\n",
              "      display:flex;\n",
              "      gap: 12px;\n",
              "    }\n",
              "\n",
              "    .colab-df-convert {\n",
              "      background-color: #E8F0FE;\n",
              "      border: none;\n",
              "      border-radius: 50%;\n",
              "      cursor: pointer;\n",
              "      display: none;\n",
              "      fill: #1967D2;\n",
              "      height: 32px;\n",
              "      padding: 0 0 0 0;\n",
              "      width: 32px;\n",
              "    }\n",
              "\n",
              "    .colab-df-convert:hover {\n",
              "      background-color: #E2EBFA;\n",
              "      box-shadow: 0px 1px 2px rgba(60, 64, 67, 0.3), 0px 1px 3px 1px rgba(60, 64, 67, 0.15);\n",
              "      fill: #174EA6;\n",
              "    }\n",
              "\n",
              "    .colab-df-buttons div {\n",
              "      margin-bottom: 4px;\n",
              "    }\n",
              "\n",
              "    [theme=dark] .colab-df-convert {\n",
              "      background-color: #3B4455;\n",
              "      fill: #D2E3FC;\n",
              "    }\n",
              "\n",
              "    [theme=dark] .colab-df-convert:hover {\n",
              "      background-color: #434B5C;\n",
              "      box-shadow: 0px 1px 3px 1px rgba(0, 0, 0, 0.15);\n",
              "      filter: drop-shadow(0px 1px 2px rgba(0, 0, 0, 0.3));\n",
              "      fill: #FFFFFF;\n",
              "    }\n",
              "  </style>\n",
              "\n",
              "    <script>\n",
              "      const buttonEl =\n",
              "        document.querySelector('#df-7e6932bd-5b38-49df-931b-172e5bc92729 button.colab-df-convert');\n",
              "      buttonEl.style.display =\n",
              "        google.colab.kernel.accessAllowed ? 'block' : 'none';\n",
              "\n",
              "      async function convertToInteractive(key) {\n",
              "        const element = document.querySelector('#df-7e6932bd-5b38-49df-931b-172e5bc92729');\n",
              "        const dataTable =\n",
              "          await google.colab.kernel.invokeFunction('convertToInteractive',\n",
              "                                                    [key], {});\n",
              "        if (!dataTable) return;\n",
              "\n",
              "        const docLinkHtml = 'Like what you see? Visit the ' +\n",
              "          '<a target=\"_blank\" href=https://colab.research.google.com/notebooks/data_table.ipynb>data table notebook</a>'\n",
              "          + ' to learn more about interactive tables.';\n",
              "        element.innerHTML = '';\n",
              "        dataTable['output_type'] = 'display_data';\n",
              "        await google.colab.output.renderOutput(dataTable, element);\n",
              "        const docLink = document.createElement('div');\n",
              "        docLink.innerHTML = docLinkHtml;\n",
              "        element.appendChild(docLink);\n",
              "      }\n",
              "    </script>\n",
              "  </div>\n",
              "\n",
              "\n",
              "    <div id=\"df-475364cf-6a74-42fb-9711-ae67c5359d60\">\n",
              "      <button class=\"colab-df-quickchart\" onclick=\"quickchart('df-475364cf-6a74-42fb-9711-ae67c5359d60')\"\n",
              "                title=\"Suggest charts\"\n",
              "                style=\"display:none;\">\n",
              "\n",
              "<svg xmlns=\"http://www.w3.org/2000/svg\" height=\"24px\"viewBox=\"0 0 24 24\"\n",
              "     width=\"24px\">\n",
              "    <g>\n",
              "        <path d=\"M19 3H5c-1.1 0-2 .9-2 2v14c0 1.1.9 2 2 2h14c1.1 0 2-.9 2-2V5c0-1.1-.9-2-2-2zM9 17H7v-7h2v7zm4 0h-2V7h2v10zm4 0h-2v-4h2v4z\"/>\n",
              "    </g>\n",
              "</svg>\n",
              "      </button>\n",
              "\n",
              "<style>\n",
              "  .colab-df-quickchart {\n",
              "      --bg-color: #E8F0FE;\n",
              "      --fill-color: #1967D2;\n",
              "      --hover-bg-color: #E2EBFA;\n",
              "      --hover-fill-color: #174EA6;\n",
              "      --disabled-fill-color: #AAA;\n",
              "      --disabled-bg-color: #DDD;\n",
              "  }\n",
              "\n",
              "  [theme=dark] .colab-df-quickchart {\n",
              "      --bg-color: #3B4455;\n",
              "      --fill-color: #D2E3FC;\n",
              "      --hover-bg-color: #434B5C;\n",
              "      --hover-fill-color: #FFFFFF;\n",
              "      --disabled-bg-color: #3B4455;\n",
              "      --disabled-fill-color: #666;\n",
              "  }\n",
              "\n",
              "  .colab-df-quickchart {\n",
              "    background-color: var(--bg-color);\n",
              "    border: none;\n",
              "    border-radius: 50%;\n",
              "    cursor: pointer;\n",
              "    display: none;\n",
              "    fill: var(--fill-color);\n",
              "    height: 32px;\n",
              "    padding: 0;\n",
              "    width: 32px;\n",
              "  }\n",
              "\n",
              "  .colab-df-quickchart:hover {\n",
              "    background-color: var(--hover-bg-color);\n",
              "    box-shadow: 0 1px 2px rgba(60, 64, 67, 0.3), 0 1px 3px 1px rgba(60, 64, 67, 0.15);\n",
              "    fill: var(--button-hover-fill-color);\n",
              "  }\n",
              "\n",
              "  .colab-df-quickchart-complete:disabled,\n",
              "  .colab-df-quickchart-complete:disabled:hover {\n",
              "    background-color: var(--disabled-bg-color);\n",
              "    fill: var(--disabled-fill-color);\n",
              "    box-shadow: none;\n",
              "  }\n",
              "\n",
              "  .colab-df-spinner {\n",
              "    border: 2px solid var(--fill-color);\n",
              "    border-color: transparent;\n",
              "    border-bottom-color: var(--fill-color);\n",
              "    animation:\n",
              "      spin 1s steps(1) infinite;\n",
              "  }\n",
              "\n",
              "  @keyframes spin {\n",
              "    0% {\n",
              "      border-color: transparent;\n",
              "      border-bottom-color: var(--fill-color);\n",
              "      border-left-color: var(--fill-color);\n",
              "    }\n",
              "    20% {\n",
              "      border-color: transparent;\n",
              "      border-left-color: var(--fill-color);\n",
              "      border-top-color: var(--fill-color);\n",
              "    }\n",
              "    30% {\n",
              "      border-color: transparent;\n",
              "      border-left-color: var(--fill-color);\n",
              "      border-top-color: var(--fill-color);\n",
              "      border-right-color: var(--fill-color);\n",
              "    }\n",
              "    40% {\n",
              "      border-color: transparent;\n",
              "      border-right-color: var(--fill-color);\n",
              "      border-top-color: var(--fill-color);\n",
              "    }\n",
              "    60% {\n",
              "      border-color: transparent;\n",
              "      border-right-color: var(--fill-color);\n",
              "    }\n",
              "    80% {\n",
              "      border-color: transparent;\n",
              "      border-right-color: var(--fill-color);\n",
              "      border-bottom-color: var(--fill-color);\n",
              "    }\n",
              "    90% {\n",
              "      border-color: transparent;\n",
              "      border-bottom-color: var(--fill-color);\n",
              "    }\n",
              "  }\n",
              "</style>\n",
              "\n",
              "      <script>\n",
              "        async function quickchart(key) {\n",
              "          const quickchartButtonEl =\n",
              "            document.querySelector('#' + key + ' button');\n",
              "          quickchartButtonEl.disabled = true;  // To prevent multiple clicks.\n",
              "          quickchartButtonEl.classList.add('colab-df-spinner');\n",
              "          try {\n",
              "            const charts = await google.colab.kernel.invokeFunction(\n",
              "                'suggestCharts', [key], {});\n",
              "          } catch (error) {\n",
              "            console.error('Error during call to suggestCharts:', error);\n",
              "          }\n",
              "          quickchartButtonEl.classList.remove('colab-df-spinner');\n",
              "          quickchartButtonEl.classList.add('colab-df-quickchart-complete');\n",
              "        }\n",
              "        (() => {\n",
              "          let quickchartButtonEl =\n",
              "            document.querySelector('#df-475364cf-6a74-42fb-9711-ae67c5359d60 button');\n",
              "          quickchartButtonEl.style.display =\n",
              "            google.colab.kernel.accessAllowed ? 'block' : 'none';\n",
              "        })();\n",
              "      </script>\n",
              "    </div>\n",
              "\n",
              "    </div>\n",
              "  </div>\n"
            ],
            "application/vnd.google.colaboratory.intrinsic+json": {
              "type": "dataframe",
              "variable_name": "vendas",
              "summary": "{\n  \"name\": \"vendas\",\n  \"rows\": 50000,\n  \"fields\": [\n    {\n      \"column\": \"Model\",\n      \"properties\": {\n        \"dtype\": \"category\",\n        \"num_unique_values\": 11,\n        \"samples\": [\n          \"3 Series\",\n          \"5 Series\",\n          \"i3\"\n        ],\n        \"semantic_type\": \"\",\n        \"description\": \"\"\n      }\n    },\n    {\n      \"column\": \"Year\",\n      \"properties\": {\n        \"dtype\": \"number\",\n        \"std\": 4,\n        \"min\": 2010,\n        \"max\": 2024,\n        \"num_unique_values\": 15,\n        \"samples\": [\n          2015,\n          2021,\n          2016\n        ],\n        \"semantic_type\": \"\",\n        \"description\": \"\"\n      }\n    },\n    {\n      \"column\": \"Region\",\n      \"properties\": {\n        \"dtype\": \"category\",\n        \"num_unique_values\": 6,\n        \"samples\": [\n          \"Asia\",\n          \"North America\",\n          \"Africa\"\n        ],\n        \"semantic_type\": \"\",\n        \"description\": \"\"\n      }\n    },\n    {\n      \"column\": \"Color\",\n      \"properties\": {\n        \"dtype\": \"category\",\n        \"num_unique_values\": 6,\n        \"samples\": [\n          \"Red\",\n          \"Blue\",\n          \"Grey\"\n        ],\n        \"semantic_type\": \"\",\n        \"description\": \"\"\n      }\n    },\n    {\n      \"column\": \"Fuel_Type\",\n      \"properties\": {\n        \"dtype\": \"category\",\n        \"num_unique_values\": 4,\n        \"samples\": [\n          \"Hybrid\",\n          \"Electric\",\n          \"Petrol\"\n        ],\n        \"semantic_type\": \"\",\n        \"description\": \"\"\n      }\n    },\n    {\n      \"column\": \"Transmission\",\n      \"properties\": {\n        \"dtype\": \"category\",\n        \"num_unique_values\": 2,\n        \"samples\": [\n          \"Automatic\",\n          \"Manual\"\n        ],\n        \"semantic_type\": \"\",\n        \"description\": \"\"\n      }\n    },\n    {\n      \"column\": \"Engine_Size_L\",\n      \"properties\": {\n        \"dtype\": \"number\",\n        \"std\": 1.0090783975412023,\n        \"min\": 1.5,\n        \"max\": 5.0,\n        \"num_unique_values\": 36,\n        \"samples\": [\n          2.9,\n          3.7\n        ],\n        \"semantic_type\": \"\",\n        \"description\": \"\"\n      }\n    },\n    {\n      \"column\": \"Mileage_KM\",\n      \"properties\": {\n        \"dtype\": \"number\",\n        \"std\": 57941,\n        \"min\": 3,\n        \"max\": 199996,\n        \"num_unique_values\": 44347,\n        \"samples\": [\n          186589,\n          76400\n        ],\n        \"semantic_type\": \"\",\n        \"description\": \"\"\n      }\n    },\n    {\n      \"column\": \"Price_USD\",\n      \"properties\": {\n        \"dtype\": \"number\",\n        \"std\": 25998,\n        \"min\": 30000,\n        \"max\": 119998,\n        \"num_unique_values\": 38246,\n        \"samples\": [\n          45242,\n          33160\n        ],\n        \"semantic_type\": \"\",\n        \"description\": \"\"\n      }\n    },\n    {\n      \"column\": \"Sales_Volume\",\n      \"properties\": {\n        \"dtype\": \"number\",\n        \"std\": 2856,\n        \"min\": 100,\n        \"max\": 9999,\n        \"num_unique_values\": 9845,\n        \"samples\": [\n          4422,\n          7272\n        ],\n        \"semantic_type\": \"\",\n        \"description\": \"\"\n      }\n    },\n    {\n      \"column\": \"Sales_Classification\",\n      \"properties\": {\n        \"dtype\": \"category\",\n        \"num_unique_values\": 2,\n        \"samples\": [\n          \"Low\",\n          \"High\"\n        ],\n        \"semantic_type\": \"\",\n        \"description\": \"\"\n      }\n    }\n  ]\n}"
            }
          },
          "metadata": {},
          "execution_count": 6
        }
      ]
    },
    {
      "cell_type": "code",
      "source": [
        "print(vendas.info())"
      ],
      "metadata": {
        "colab": {
          "base_uri": "https://localhost:8080/"
        },
        "id": "l205nWwT6WJC",
        "outputId": "1a86d9a6-6891-4c94-efdd-e04e0d37c02b"
      },
      "execution_count": 8,
      "outputs": [
        {
          "output_type": "stream",
          "name": "stdout",
          "text": [
            "<class 'pandas.core.frame.DataFrame'>\n",
            "RangeIndex: 50000 entries, 0 to 49999\n",
            "Data columns (total 11 columns):\n",
            " #   Column                Non-Null Count  Dtype  \n",
            "---  ------                --------------  -----  \n",
            " 0   Model                 50000 non-null  object \n",
            " 1   Year                  50000 non-null  int64  \n",
            " 2   Region                50000 non-null  object \n",
            " 3   Color                 50000 non-null  object \n",
            " 4   Fuel_Type             50000 non-null  object \n",
            " 5   Transmission          50000 non-null  object \n",
            " 6   Engine_Size_L         50000 non-null  float64\n",
            " 7   Mileage_KM            50000 non-null  int64  \n",
            " 8   Price_USD             50000 non-null  int64  \n",
            " 9   Sales_Volume          50000 non-null  int64  \n",
            " 10  Sales_Classification  50000 non-null  object \n",
            "dtypes: float64(1), int64(4), object(6)\n",
            "memory usage: 4.2+ MB\n",
            "None\n"
          ]
        }
      ]
    },
    {
      "cell_type": "code",
      "source": [
        "print(vendas)"
      ],
      "metadata": {
        "colab": {
          "base_uri": "https://localhost:8080/"
        },
        "id": "73NI6TNN6ipb",
        "outputId": "ea4cf589-ffa8-402d-9c17-6b0504b4995a"
      },
      "execution_count": 9,
      "outputs": [
        {
          "output_type": "stream",
          "name": "stdout",
          "text": [
            "          Model  Year         Region   Color Fuel_Type Transmission  \\\n",
            "0      5 Series  2016           Asia     Red    Petrol       Manual   \n",
            "1            i8  2013  North America     Red    Hybrid    Automatic   \n",
            "2      5 Series  2022  North America    Blue    Petrol    Automatic   \n",
            "3            X3  2024    Middle East    Blue    Petrol    Automatic   \n",
            "4      7 Series  2020  South America   Black    Diesel       Manual   \n",
            "...         ...   ...            ...     ...       ...          ...   \n",
            "49995        i3  2014           Asia     Red    Hybrid       Manual   \n",
            "49996        i3  2023    Middle East  Silver  Electric       Manual   \n",
            "49997  5 Series  2010    Middle East     Red    Petrol    Automatic   \n",
            "49998        i3  2020           Asia   White  Electric    Automatic   \n",
            "49999        X1  2020  North America    Blue    Diesel       Manual   \n",
            "\n",
            "       Engine_Size_L  Mileage_KM  Price_USD  Sales_Volume Sales_Classification  \n",
            "0                3.5      151748      98740          8300                 High  \n",
            "1                1.6      121671      79219          3428                  Low  \n",
            "2                4.5       10991     113265          6994                  Low  \n",
            "3                1.7       27255      60971          4047                  Low  \n",
            "4                2.1      122131      49898          3080                  Low  \n",
            "...              ...         ...        ...           ...                  ...  \n",
            "49995            4.6      151030      42932          8182                 High  \n",
            "49996            4.2      147396      48714          9816                 High  \n",
            "49997            4.5      174939      46126          8280                 High  \n",
            "49998            3.8        3379      58566          9486                 High  \n",
            "49999            3.3      171003      77492          1764                  Low  \n",
            "\n",
            "[50000 rows x 11 columns]\n"
          ]
        }
      ]
    },
    {
      "cell_type": "code",
      "source": [
        "print(vendas.dtypes)"
      ],
      "metadata": {
        "colab": {
          "base_uri": "https://localhost:8080/"
        },
        "id": "VRzLEgW16m6w",
        "outputId": "848605c8-083f-4bdf-e2b1-edbc3448c191"
      },
      "execution_count": 10,
      "outputs": [
        {
          "output_type": "stream",
          "name": "stdout",
          "text": [
            "Model                    object\n",
            "Year                      int64\n",
            "Region                   object\n",
            "Color                    object\n",
            "Fuel_Type                object\n",
            "Transmission             object\n",
            "Engine_Size_L           float64\n",
            "Mileage_KM                int64\n",
            "Price_USD                 int64\n",
            "Sales_Volume              int64\n",
            "Sales_Classification     object\n",
            "dtype: object\n"
          ]
        }
      ]
    },
    {
      "cell_type": "code",
      "source": [
        "print(vendas.memory_usage(deep=True))"
      ],
      "metadata": {
        "colab": {
          "base_uri": "https://localhost:8080/"
        },
        "id": "t8xo66ja_f_a",
        "outputId": "37a3a070-2449-4208-c0d4-96637309d7b3"
      },
      "execution_count": 33,
      "outputs": [
        {
          "output_type": "stream",
          "name": "stdout",
          "text": [
            "Index                      132\n",
            "Model                    50879\n",
            "Year                     50676\n",
            "Region                   50519\n",
            "Color                    50493\n",
            "Fuel_Type                50394\n",
            "Transmission             50221\n",
            "Engine_Size_L           400000\n",
            "Mileage_KM              400000\n",
            "Price_USD               400000\n",
            "Sales_Volume            400000\n",
            "Sales_Classification     50213\n",
            "dtype: int64\n"
          ]
        }
      ]
    },
    {
      "cell_type": "code",
      "source": [
        "print('Uso da função .isnull()')\n",
        "print(vendas.isnull().sum())\n",
        "\n",
        "print('\\nUso da função .isna()')\n",
        "print(vendas.isna().sum())"
      ],
      "metadata": {
        "colab": {
          "base_uri": "https://localhost:8080/"
        },
        "id": "rDQCOirR7z_g",
        "outputId": "d151425d-de67-4f49-a4be-60df222f941a"
      },
      "execution_count": 15,
      "outputs": [
        {
          "output_type": "stream",
          "name": "stdout",
          "text": [
            "Uso da função .isnull()\n",
            "Model                   0\n",
            "Year                    0\n",
            "Region                  0\n",
            "Color                   0\n",
            "Fuel_Type               0\n",
            "Transmission            0\n",
            "Engine_Size_L           0\n",
            "Mileage_KM              0\n",
            "Price_USD               0\n",
            "Sales_Volume            0\n",
            "Sales_Classification    0\n",
            "dtype: int64\n",
            "\n",
            "Uso da função .isna()\n",
            "Model                   0\n",
            "Year                    0\n",
            "Region                  0\n",
            "Color                   0\n",
            "Fuel_Type               0\n",
            "Transmission            0\n",
            "Engine_Size_L           0\n",
            "Mileage_KM              0\n",
            "Price_USD               0\n",
            "Sales_Volume            0\n",
            "Sales_Classification    0\n",
            "dtype: int64\n"
          ]
        }
      ]
    },
    {
      "cell_type": "code",
      "source": [
        "vendas_duplicadas = vendas.duplicated()\n",
        "print(vendas_duplicadas)"
      ],
      "metadata": {
        "colab": {
          "base_uri": "https://localhost:8080/"
        },
        "id": "PqK8a_m58Ajf",
        "outputId": "0800333f-6cff-48fa-eb5f-533ce4f2699d"
      },
      "execution_count": 16,
      "outputs": [
        {
          "output_type": "stream",
          "name": "stdout",
          "text": [
            "0        False\n",
            "1        False\n",
            "2        False\n",
            "3        False\n",
            "4        False\n",
            "         ...  \n",
            "49995    False\n",
            "49996    False\n",
            "49997    False\n",
            "49998    False\n",
            "49999    False\n",
            "Length: 50000, dtype: bool\n"
          ]
        }
      ]
    },
    {
      "cell_type": "code",
      "source": [
        "numero_duplicadas = vendas.duplicated().sum()\n",
        "print(numero_duplicadas)"
      ],
      "metadata": {
        "colab": {
          "base_uri": "https://localhost:8080/"
        },
        "id": "P0TC9Ldd8HAg",
        "outputId": "b8b9c20f-1520-468f-948c-8b80660a4a52"
      },
      "execution_count": 17,
      "outputs": [
        {
          "output_type": "stream",
          "name": "stdout",
          "text": [
            "0\n"
          ]
        }
      ]
    },
    {
      "cell_type": "code",
      "source": [
        "vendas['Region'] = vendas['Region'].str.strip()\n",
        "vendas['Model'] = vendas['Model'].str.strip()"
      ],
      "metadata": {
        "id": "X3aMc-9s8yKk"
      },
      "execution_count": 22,
      "outputs": []
    },
    {
      "cell_type": "code",
      "source": [
        "print('\\nValores únicos')\n",
        "print(vendas['Region'].nunique())\n",
        "print('\\nContagem de observações')\n",
        "print(vendas['Region'].value_counts())\n",
        "print('\\nPercentual de observações')\n",
        "print(vendas['Region'].value_counts(normalize=True)*100)"
      ],
      "metadata": {
        "colab": {
          "base_uri": "https://localhost:8080/"
        },
        "id": "Q3nIwAWV8lUO",
        "outputId": "b2aba43a-c92d-428f-f424-9cbb834c7a4a"
      },
      "execution_count": 18,
      "outputs": [
        {
          "output_type": "stream",
          "name": "stdout",
          "text": [
            "\n",
            "Valores únicos\n",
            "6\n",
            "\n",
            "Contagem de observações\n",
            "Region\n",
            "Asia             8454\n",
            "Middle East      8373\n",
            "North America    8335\n",
            "Europe           8334\n",
            "Africa           8253\n",
            "South America    8251\n",
            "Name: count, dtype: int64\n",
            "\n",
            "Percentual de observações\n",
            "Region\n",
            "Asia             16.908\n",
            "Middle East      16.746\n",
            "North America    16.670\n",
            "Europe           16.668\n",
            "Africa           16.506\n",
            "South America    16.502\n",
            "Name: proportion, dtype: float64\n"
          ]
        }
      ]
    },
    {
      "cell_type": "code",
      "source": [
        "print('\\nValores únicos')\n",
        "print(vendas['Model'].nunique())\n",
        "print('\\nContagem de observações')\n",
        "print(vendas['Model'].value_counts())\n",
        "print('\\nPercentual de observações')\n",
        "print(vendas['Model'].value_counts(normalize=True)*100)"
      ],
      "metadata": {
        "colab": {
          "base_uri": "https://localhost:8080/"
        },
        "id": "WkyE4I_v9RFn",
        "outputId": "54204ecf-ca2a-4c8b-eaf7-949a2f99d48e"
      },
      "execution_count": 23,
      "outputs": [
        {
          "output_type": "stream",
          "name": "stdout",
          "text": [
            "\n",
            "Valores únicos\n",
            "11\n",
            "\n",
            "Contagem de observações\n",
            "Model\n",
            "7 Series    4666\n",
            "i3          4618\n",
            "i8          4606\n",
            "3 Series    4595\n",
            "5 Series    4592\n",
            "X1          4570\n",
            "X3          4497\n",
            "X5          4487\n",
            "M5          4478\n",
            "X6          4478\n",
            "M3          4413\n",
            "Name: count, dtype: int64\n",
            "\n",
            "Percentual de observações\n",
            "Model\n",
            "7 Series    9.332\n",
            "i3          9.236\n",
            "i8          9.212\n",
            "3 Series    9.190\n",
            "5 Series    9.184\n",
            "X1          9.140\n",
            "X3          8.994\n",
            "X5          8.974\n",
            "M5          8.956\n",
            "X6          8.956\n",
            "M3          8.826\n",
            "Name: proportion, dtype: float64\n"
          ]
        }
      ]
    },
    {
      "cell_type": "code",
      "source": [
        "print(vendas.nunique())"
      ],
      "metadata": {
        "colab": {
          "base_uri": "https://localhost:8080/"
        },
        "id": "CvWR-yZu9Zt3",
        "outputId": "582a542e-e770-4a65-aa9d-961f8a830411"
      },
      "execution_count": 24,
      "outputs": [
        {
          "output_type": "stream",
          "name": "stdout",
          "text": [
            "Model                      11\n",
            "Year                       15\n",
            "Region                      6\n",
            "Color                       6\n",
            "Fuel_Type                   4\n",
            "Transmission                2\n",
            "Engine_Size_L              36\n",
            "Mileage_KM              44347\n",
            "Price_USD               38246\n",
            "Sales_Volume             9845\n",
            "Sales_Classification        2\n",
            "dtype: int64\n"
          ]
        }
      ]
    },
    {
      "cell_type": "code",
      "source": [
        "print('\\nContagem das categorias em model')\n",
        "print(vendas['Model'].value_counts())\n",
        "print('\\nContagem das categorias em year')\n",
        "print(vendas['Year'].value_counts())\n",
        "print('\\nContagem das categorias em Color')\n",
        "print(vendas['Color'].value_counts())\n",
        "print('\\nContagem das categorias em Sales_Classification')\n",
        "print(vendas['Sales_Classification'].value_counts())"
      ],
      "metadata": {
        "colab": {
          "base_uri": "https://localhost:8080/"
        },
        "id": "UdlqmqIe9tzS",
        "outputId": "049283c8-b8ca-4569-a45d-e1603269250f"
      },
      "execution_count": 25,
      "outputs": [
        {
          "output_type": "stream",
          "name": "stdout",
          "text": [
            "\n",
            "Contagem das categorias em model\n",
            "Model\n",
            "7 Series    4666\n",
            "i3          4618\n",
            "i8          4606\n",
            "3 Series    4595\n",
            "5 Series    4592\n",
            "X1          4570\n",
            "X3          4497\n",
            "X5          4487\n",
            "M5          4478\n",
            "X6          4478\n",
            "M3          4413\n",
            "Name: count, dtype: int64\n",
            "\n",
            "Contagem das categorias em year\n",
            "Year\n",
            "2022    3478\n",
            "2024    3427\n",
            "2019    3392\n",
            "2021    3372\n",
            "2016    3365\n",
            "2015    3358\n",
            "2014    3350\n",
            "2012    3332\n",
            "2010    3330\n",
            "2013    3326\n",
            "2017    3290\n",
            "2018    3278\n",
            "2011    3278\n",
            "2023    3219\n",
            "2020    3205\n",
            "Name: count, dtype: int64\n",
            "\n",
            "Contagem das categorias em Color\n",
            "Color\n",
            "Red       8463\n",
            "Silver    8350\n",
            "Grey      8348\n",
            "White     8304\n",
            "Black     8273\n",
            "Blue      8262\n",
            "Name: count, dtype: int64\n",
            "\n",
            "Contagem das categorias em Sales_Classification\n",
            "Sales_Classification\n",
            "Low     34754\n",
            "High    15246\n",
            "Name: count, dtype: int64\n"
          ]
        }
      ]
    },
    {
      "cell_type": "code",
      "source": [
        "vendas['Sales_Classification'] = vendas['Sales_Classification'].str.upper()"
      ],
      "metadata": {
        "id": "X0lvF4fY-Cc6"
      },
      "execution_count": 28,
      "outputs": []
    },
    {
      "cell_type": "code",
      "source": [
        "print('\\nContagem das categorias em Sales_Classification')\n",
        "print(vendas['Sales_Classification'].value_counts())"
      ],
      "metadata": {
        "colab": {
          "base_uri": "https://localhost:8080/"
        },
        "id": "0C9FYZTN-HPJ",
        "outputId": "e52b93b0-fb48-477c-d7cc-a59495b91338"
      },
      "execution_count": 29,
      "outputs": [
        {
          "output_type": "stream",
          "name": "stdout",
          "text": [
            "\n",
            "Contagem das categorias em Sales_Classification\n",
            "Sales_Classification\n",
            "LOW     34754\n",
            "HIGH    15246\n",
            "Name: count, dtype: int64\n"
          ]
        }
      ]
    },
    {
      "cell_type": "code",
      "source": [
        "categorical_cols = ['Model', 'Region', 'Color', 'Fuel_Type', 'Transmission', 'Sales_Classification']\n",
        "vendas[categorical_cols] = vendas[categorical_cols].astype('category')"
      ],
      "metadata": {
        "id": "GApzt0Ts_GgQ"
      },
      "execution_count": 43,
      "outputs": []
    },
    {
      "cell_type": "code",
      "source": [
        "vendas['Year'] = pd.Categorical(vendas['Year'], ordered=True)"
      ],
      "metadata": {
        "id": "SVSxbcwtB14J"
      },
      "execution_count": 45,
      "outputs": []
    },
    {
      "cell_type": "code",
      "source": [
        "print(vendas.dtypes)"
      ],
      "metadata": {
        "colab": {
          "base_uri": "https://localhost:8080/"
        },
        "id": "N_7yfkl__NV5",
        "outputId": "b416951d-879c-40fb-cb73-d0e12b9792e2"
      },
      "execution_count": 46,
      "outputs": [
        {
          "output_type": "stream",
          "name": "stdout",
          "text": [
            "Model                   category\n",
            "Year                    category\n",
            "Region                  category\n",
            "Color                   category\n",
            "Fuel_Type               category\n",
            "Transmission            category\n",
            "Engine_Size_L            float64\n",
            "Mileage_KM                 int64\n",
            "Price_USD                  int64\n",
            "Sales_Volume               int64\n",
            "Sales_Classification    category\n",
            "dtype: object\n"
          ]
        }
      ]
    },
    {
      "cell_type": "code",
      "source": [
        "# Redução no uso da memória por coluna\n",
        "print(vendas.memory_usage(deep=True))"
      ],
      "metadata": {
        "colab": {
          "base_uri": "https://localhost:8080/"
        },
        "id": "IDLN8k5N_bJY",
        "outputId": "cd84083c-c302-48cf-d2c3-b9379da68d7b"
      },
      "execution_count": 47,
      "outputs": [
        {
          "output_type": "stream",
          "name": "stdout",
          "text": [
            "Index                      132\n",
            "Model                    50879\n",
            "Year                     50676\n",
            "Region                   50519\n",
            "Color                    50493\n",
            "Fuel_Type                50394\n",
            "Transmission             50221\n",
            "Engine_Size_L           400000\n",
            "Mileage_KM              400000\n",
            "Price_USD               400000\n",
            "Sales_Volume            400000\n",
            "Sales_Classification     50213\n",
            "dtype: int64\n"
          ]
        }
      ]
    },
    {
      "cell_type": "code",
      "source": [
        "sns.countplot(data=vendas, x='Year')\n",
        "plt.title('Vendas por Ano')\n",
        "plt.xticks(rotation=90)\n",
        "plt.show()"
      ],
      "metadata": {
        "colab": {
          "base_uri": "https://localhost:8080/",
          "height": 493
        },
        "id": "sXZOtylDAhxw",
        "outputId": "6ebd14b9-d292-4474-dd47-f7ec0c24a40d"
      },
      "execution_count": 48,
      "outputs": [
        {
          "output_type": "display_data",
          "data": {
            "text/plain": [
              "<Figure size 640x480 with 1 Axes>"
            ],
            "image/png": "[encoded data removed]"
          },
          "metadata": {}
        }
      ]
    },
    {
      "cell_type": "code",
      "source": [
        "sns.countplot(data=vendas, x='Model')\n",
        "plt.title('Terremotos por Modelo')\n",
        "plt.xticks(rotation=90)\n",
        "plt.show()"
      ],
      "metadata": {
        "colab": {
          "base_uri": "https://localhost:8080/",
          "height": 513
        },
        "id": "howtffbhApch",
        "outputId": "2278ba7a-62a7-4f6c-8079-aed1f0efacf8"
      },
      "execution_count": 49,
      "outputs": [
        {
          "output_type": "display_data",
          "data": {
            "text/plain": [
              "<Figure size 640x480 with 1 Axes>"
            ],
            "image/png": "[encoded data removed]"
          },
          "metadata": {}
        }
      ]
    },
    {
      "cell_type": "code",
      "source": [
        "print(vendas['Year'].unique())"
      ],
      "metadata": {
        "colab": {
          "base_uri": "https://localhost:8080/"
        },
        "id": "H1FO2MtnBdUo",
        "outputId": "48313e9e-5d27-424e-be5e-46ce370869d3"
      },
      "execution_count": 50,
      "outputs": [
        {
          "output_type": "stream",
          "name": "stdout",
          "text": [
            "[2016, 2013, 2022, 2024, 2020, ..., 2011, 2021, 2023, 2010, 2018]\n",
            "Length: 15\n",
            "Categories (15, int64): [2010 < 2011 < 2012 < 2013 ... 2021 < 2022 < 2023 < 2024]\n"
          ]
        }
      ]
    },
    {
      "cell_type": "code",
      "source": [
        "# 2. Filtragem de Dados com Base em Datas\n",
        "modelos_mais_vendidos_2024 = vendas[vendas['Year'] >= 2024]\n",
        "\n",
        "sns.countplot(data=modelos_mais_vendidos_2024, x='Model')\n",
        "plt.title('Modelos mais vendidos em 2024')\n",
        "plt.xticks(rotation=90)\n",
        "plt.show()"
      ],
      "metadata": {
        "colab": {
          "base_uri": "https://localhost:8080/",
          "height": 513
        },
        "id": "Q6FdOOdjAxJ2",
        "outputId": "d7836d74-8207-4b0d-a80d-35021b915bdd"
      },
      "execution_count": 51,
      "outputs": [
        {
          "output_type": "display_data",
          "data": {
            "text/plain": [
              "<Figure size 640x480 with 1 Axes>"
            ],
            "image/png": "[encoded data removed]"
          },
          "metadata": {}
        }
      ]
    },
    {
      "cell_type": "code",
      "source": [
        "plt.figure(figsize=(12,6))\n",
        "sns.countplot(data=modelos_mais_vendidos_2024, x='Model', hue='Region')\n",
        "plt.title('Modelos mais vendidos em 2024 por Região')\n",
        "plt.xticks(rotation=90)\n",
        "plt.tight_layout()\n",
        "plt.show()"
      ],
      "metadata": {
        "colab": {
          "base_uri": "https://localhost:8080/",
          "height": 607
        },
        "id": "kyVu0_eKB-4Y",
        "outputId": "df542290-eb68-4aac-9d08-7ef1fbfd2418"
      },
      "execution_count": 52,
      "outputs": [
        {
          "output_type": "display_data",
          "data": {
            "text/plain": [
              "<Figure size 1200x600 with 1 Axes>"
            ],
            "image/png": "[encoded data removed]"
          },
          "metadata": {}
        }
      ]
    }
  ]
}